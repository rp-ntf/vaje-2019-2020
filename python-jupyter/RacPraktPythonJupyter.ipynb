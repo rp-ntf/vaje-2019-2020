{
 "cells": [
  {
   "cell_type": "code",
   "execution_count": 32,
   "metadata": {},
   "outputs": [],
   "source": [
    "from IPython.display import display\n",
    "\n",
    "import sympy as sp\n",
    "sp.init_printing()\n",
    "\n",
    "import numpy as np\n",
    "\n",
    "from matplotlib import pyplot as plt\n",
    "%matplotlib inline\n",
    "plt.rcParams['figure.figsize'] = 9,6\n",
    "\n",
    "from scipy import integrate"
   ]
  },
  {
   "cell_type": "code",
   "execution_count": 55,
   "metadata": {},
   "outputs": [
    {
     "name": "stdout",
     "output_type": "stream",
     "text": [
      "0\n",
      "1\n",
      "2\n",
      "3\n",
      "4\n",
      "5\n",
      "6\n",
      "7\n",
      "8\n",
      "9\n"
     ]
    }
   ],
   "source": [
    "# for ( int i=0; i<10; ++i )\n",
    "for i in range(10):\n",
    "    print(i)"
   ]
  },
  {
   "cell_type": "code",
   "execution_count": 39,
   "metadata": {},
   "outputs": [
    {
     "name": "stdout",
     "output_type": "stream",
     "text": [
      "7 49 14\n",
      "abcd \n",
      "abcd abcd \n"
     ]
    }
   ],
   "source": [
    "# int t = 7\n",
    "# str niz = \"abcd\"\n",
    "t = 7\n",
    "niz = \"abcd \"\n",
    "tt = ( 1, 2, 3 ) # tuple = terka\n",
    "print(t, t**2, t*2)\n",
    "print(niz)\n",
    "print(niz*2)"
   ]
  },
  {
   "cell_type": "code",
   "execution_count": 52,
   "metadata": {},
   "outputs": [
    {
     "data": {
      "text/plain": [
       "'izraz:'"
      ]
     },
     "metadata": {},
     "output_type": "display_data"
    },
    {
     "data": {
      "image/png": "[encoded data removed]",
      "text/latex": [
       "$$x^{4} + \\frac{x^{3}}{7} + \\sin^{2}{\\left (x \\right )} + \\cos{\\left (x \\right )}$$"
      ],
      "text/plain": [
       "      3                   \n",
       " 4   x       2            \n",
       "x  + ── + sin (x) + cos(x)\n",
       "     7                    "
      ]
     },
     "metadata": {},
     "output_type": "display_data"
    },
    {
     "data": {
      "text/plain": [
       "'integral:'"
      ]
     },
     "metadata": {},
     "output_type": "display_data"
    },
    {
     "data": {
      "image/png": "[encoded data removed]",
      "text/latex": [
       "$$\\frac{x^{5}}{5} + \\frac{x^{4}}{28} + \\frac{x}{2} - \\frac{\\sin{\\left (x \\right )} \\cos{\\left (x \\right )}}{2} + \\sin{\\left (x \\right )}$$"
      ],
      "text/plain": [
       " 5    4                             \n",
       "x    x    x   sin(x)⋅cos(x)         \n",
       "── + ── + ─ - ───────────── + sin(x)\n",
       "5    28   2         2               "
      ]
     },
     "metadata": {},
     "output_type": "display_data"
    },
    {
     "data": {
      "text/plain": [
       "'odvod:'"
      ]
     },
     "metadata": {},
     "output_type": "display_data"
    },
    {
     "data": {
      "image/png": "[encoded data removed]",
      "text/latex": [
       "$$4 x^{3} + \\frac{3 x^{2}}{7} + 2 \\sin{\\left (x \\right )} \\cos{\\left (x \\right )} - \\sin{\\left (x \\right )}$$"
      ],
      "text/plain": [
       "          2                           \n",
       "   3   3⋅x                            \n",
       "4⋅x  + ──── + 2⋅sin(x)⋅cos(x) - sin(x)\n",
       "        7                             "
      ]
     },
     "metadata": {},
     "output_type": "display_data"
    },
    {
     "data": {
      "text/plain": [
       "'integral [1, 7]:'"
      ]
     },
     "metadata": {},
     "output_type": "display_data"
    },
    {
     "data": {
      "image/png": "[encoded data removed]",
      "text/latex": [
       "$$- \\sin{\\left (1 \\right )} - \\frac{\\sin{\\left (7 \\right )} \\cos{\\left (7 \\right )}}{2} + \\frac{\\sin{\\left (1 \\right )} \\cos{\\left (1 \\right )}}{2} + \\sin{\\left (7 \\right )} + \\frac{120747}{35}$$"
      ],
      "text/plain": [
       "          sin(7)⋅cos(7)   sin(1)⋅cos(1)            120747\n",
       "-sin(1) - ───────────── + ───────────── + sin(7) + ──────\n",
       "                2               2                    35  "
      ]
     },
     "metadata": {},
     "output_type": "display_data"
    },
    {
     "data": {
      "image/png": "[encoded data removed]",
      "text/latex": [
       "$$3449.709473845979$$"
      ],
      "text/plain": [
       "3449.709473845979"
      ]
     },
     "metadata": {},
     "output_type": "display_data"
    }
   ],
   "source": [
    "x = sp.symbols(\"x\", is_real=True)\n",
    "y, z = sp.symbols(\"y z\", is_real=True)\n",
    "\n",
    "izraz = sp.sin(x)**2 + sp.cos(x) + x**3/7 + x**4\n",
    "\n",
    "display( \"izraz:\", izraz)\n",
    "display( \"integral:\", sp.integrate( izraz, x ) )\n",
    "display( \"odvod:\", sp.diff( izraz, x ) )\n",
    "vrednost_integrala = sp.integrate( izraz, ( x, 1, 7 ) )\n",
    "# display( \"integral [1, 7]:\", sp.integrate( izraz, ( x, 1, 7 ) ) )\n",
    "display( \"integral [1, 7]:\", \n",
    "        vrednost_integrala, \n",
    "        float(vrednost_integrala) )\n"
   ]
  },
  {
   "cell_type": "code",
   "execution_count": 65,
   "metadata": {},
   "outputs": [
    {
     "data": {
      "image/png": "[encoded data removed]",
      "text/plain": [
       "<Figure size 648x432 with 1 Axes>"
      ]
     },
     "metadata": {},
     "output_type": "display_data"
    }
   ],
   "source": [
    "xx = np.linspace(0,3,1000)\n",
    "yy = np.sin( xx )**2 + np.cos(xx)\n",
    "plt.plot( xx, yy )\n",
    "plt.plot( xx, yy**2 )\n",
    "plt.show()"
   ]
  },
  {
   "cell_type": "code",
   "execution_count": 62,
   "metadata": {},
   "outputs": [
    {
     "data": {
      "image/png": "[encoded data removed]",
      "text/latex": [
       "$$\\frac{x \\sinh{\\left (- x \\cos{\\left (x^{3} + x^{2} + 1 \\right )} + 3 \\right )}}{x^{2} + 3 x + 1}$$"
      ],
      "text/plain": [
       "      ⎛       ⎛ 3    2    ⎞    ⎞\n",
       "x⋅sinh⎝- x⋅cos⎝x  + x  + 1⎠ + 3⎠\n",
       "────────────────────────────────\n",
       "           2                    \n",
       "          x  + 3⋅x + 1          "
      ]
     },
     "metadata": {},
     "output_type": "display_data"
    }
   ],
   "source": [
    "# def return ( x * sp.sinh( 3 - x * sp.cos(1+x**2+x**3) ) / (1+3*x+x**2) )\n",
    "f_janez_izraz = ( x * sp.sinh( 3 - x * sp.cos(1+x**2+x**3) ) / (1+3*x+x**2) )\n",
    "f_janez_numpy = sp.lambdify( x, f_janez_izraz, np )\n",
    "display( f_janez_izraz )\n"
   ]
  },
  {
   "cell_type": "code",
   "execution_count": 66,
   "metadata": {},
   "outputs": [
    {
     "data": {
      "image/png": "[encoded data removed]",
      "text/plain": [
       "<Figure size 648x432 with 1 Axes>"
      ]
     },
     "metadata": {},
     "output_type": "display_data"
    }
   ],
   "source": [
    "plt.plot( xx, f_janez_numpy(xx) )\n",
    "plt.show()"
   ]
  },
  {
   "cell_type": "code",
   "execution_count": 67,
   "metadata": {},
   "outputs": [
    {
     "data": {
      "image/png": "[encoded data removed]",
      "text/latex": [
       "$$\\frac{x \\left(- 2 x - 3\\right) \\sinh{\\left (- x \\cos{\\left (x^{3} + x^{2} + 1 \\right )} + 3 \\right )}}{\\left(x^{2} + 3 x + 1\\right)^{2}} + \\frac{x \\left(x \\left(3 x^{2} + 2 x\\right) \\sin{\\left (x^{3} + x^{2} + 1 \\right )} - \\cos{\\left (x^{3} + x^{2} + 1 \\right )}\\right) \\cosh{\\left (- x \\cos{\\left (x^{3} + x^{2} + 1 \\right )} + 3 \\right )}}{x^{2} + 3 x + 1} + \\frac{\\sinh{\\left (- x \\cos{\\left (x^{3} + x^{2} + 1 \\right )} + 3 \\right )}}{x^{2} + 3 x + 1}$$"
      ],
      "text/plain": [
       "                 ⎛       ⎛ 3    2    ⎞    ⎞     ⎛  ⎛   2      ⎞    ⎛ 3    2   \n",
       "x⋅(-2⋅x - 3)⋅sinh⎝- x⋅cos⎝x  + x  + 1⎠ + 3⎠   x⋅⎝x⋅⎝3⋅x  + 2⋅x⎠⋅sin⎝x  + x  + \n",
       "─────────────────────────────────────────── + ────────────────────────────────\n",
       "                            2                                                 \n",
       "              ⎛ 2          ⎞                                                  \n",
       "              ⎝x  + 3⋅x + 1⎠                                                  \n",
       "\n",
       " ⎞      ⎛ 3    2    ⎞⎞     ⎛       ⎛ 3    2    ⎞    ⎞       ⎛       ⎛ 3    2  \n",
       "1⎠ - cos⎝x  + x  + 1⎠⎠⋅cosh⎝- x⋅cos⎝x  + x  + 1⎠ + 3⎠   sinh⎝- x⋅cos⎝x  + x  +\n",
       "───────────────────────────────────────────────────── + ──────────────────────\n",
       "      2                                                           2           \n",
       "     x  + 3⋅x + 1                                                x  + 3⋅x + 1 \n",
       "                                                                              \n",
       "\n",
       "  ⎞    ⎞\n",
       " 1⎠ + 3⎠\n",
       "────────\n",
       "        \n",
       "        \n",
       "        "
      ]
     },
     "execution_count": 67,
     "metadata": {},
     "output_type": "execute_result"
    }
   ],
   "source": [
    "sp.diff( f_janez_izraz, x )"
   ]
  },
  {
   "cell_type": "code",
   "execution_count": 68,
   "metadata": {},
   "outputs": [
    {
     "data": {
      "image/png": "[encoded data removed]",
      "text/latex": [
       "$$\\int \\frac{x \\sinh{\\left (- x \\cos{\\left (x^{3} + x^{2} + 1 \\right )} + 3 \\right )}}{x^{2} + 3 x + 1}\\, dx$$"
      ],
      "text/plain": [
       "⌠                                    \n",
       "⎮       ⎛       ⎛ 3    2    ⎞    ⎞   \n",
       "⎮ x⋅sinh⎝- x⋅cos⎝x  + x  + 1⎠ + 3⎠   \n",
       "⎮ ──────────────────────────────── dx\n",
       "⎮            2                       \n",
       "⎮           x  + 3⋅x + 1             \n",
       "⌡                                    "
      ]
     },
     "execution_count": 68,
     "metadata": {},
     "output_type": "execute_result"
    }
   ],
   "source": [
    "sp.integrate( f_janez_izraz, x )"
   ]
  },
  {
   "cell_type": "code",
   "execution_count": 69,
   "metadata": {},
   "outputs": [
    {
     "name": "stdout",
     "output_type": "stream",
     "text": [
      "Help on function simps in module scipy.integrate.quadrature:\n",
      "\n",
      "simps(y, x=None, dx=1, axis=-1, even='avg')\n",
      "    Integrate y(x) using samples along the given axis and the composite\n",
      "    Simpson's rule.  If x is None, spacing of dx is assumed.\n",
      "    \n",
      "    If there are an even number of samples, N, then there are an odd\n",
      "    number of intervals (N-1), but Simpson's rule requires an even number\n",
      "    of intervals.  The parameter 'even' controls how this is handled.\n",
      "    \n",
      "    Parameters\n",
      "    ----------\n",
      "    y : array_like\n",
      "        Array to be integrated.\n",
      "    x : array_like, optional\n",
      "        If given, the points at which `y` is sampled.\n",
      "    dx : int, optional\n",
      "        Spacing of integration points along axis of `y`. Only used when\n",
      "        `x` is None. Default is 1.\n",
      "    axis : int, optional\n",
      "        Axis along which to integrate. Default is the last axis.\n",
      "    even : str {'avg', 'first', 'last'}, optional\n",
      "        'avg' : Average two results:1) use the first N-2 intervals with\n",
      "                  a trapezoidal rule on the last interval and 2) use the last\n",
      "                  N-2 intervals with a trapezoidal rule on the first interval.\n",
      "    \n",
      "        'first' : Use Simpson's rule for the first N-2 intervals with\n",
      "                a trapezoidal rule on the last interval.\n",
      "    \n",
      "        'last' : Use Simpson's rule for the last N-2 intervals with a\n",
      "               trapezoidal rule on the first interval.\n",
      "    \n",
      "    See Also\n",
      "    --------\n",
      "    quad: adaptive quadrature using QUADPACK\n",
      "    romberg: adaptive Romberg quadrature\n",
      "    quadrature: adaptive Gaussian quadrature\n",
      "    fixed_quad: fixed-order Gaussian quadrature\n",
      "    dblquad: double integrals\n",
      "    tplquad: triple integrals\n",
      "    romb: integrators for sampled data\n",
      "    cumtrapz: cumulative integration for sampled data\n",
      "    ode: ODE integrators\n",
      "    odeint: ODE integrators\n",
      "    \n",
      "    Notes\n",
      "    -----\n",
      "    For an odd number of samples that are equally spaced the result is\n",
      "    exact if the function is a polynomial of order 3 or less.  If\n",
      "    the samples are not equally spaced, then the result is exact only\n",
      "    if the function is a polynomial of order 2 or less.\n",
      "    \n",
      "    Examples\n",
      "    --------\n",
      "    >>> from scipy import integrate\n",
      "    >>> x = np.arange(0, 10)\n",
      "    >>> y = np.arange(0, 10)\n",
      "    \n",
      "    >>> integrate.simps(y, x)\n",
      "    40.5\n",
      "    \n",
      "    >>> y = np.power(x, 3)\n",
      "    >>> integrate.simps(y, x)\n",
      "    1642.5\n",
      "    >>> integrate.quad(lambda x: x**3, 0, 9)[0]\n",
      "    1640.25\n",
      "    \n",
      "    >>> integrate.simps(y, x, even='first')\n",
      "    1644.5\n",
      "\n"
     ]
    }
   ],
   "source": [
    "help(integrate.simps)"
   ]
  },
  {
   "cell_type": "code",
   "execution_count": null,
   "metadata": {
    "collapsed": true
   },
   "outputs": [],
   "source": []
  }
 ],
 "metadata": {
  "kernelspec": {
   "display_name": "Python 3",
   "language": "python",
   "name": "python3"
  },
  "language_info": {
   "codemirror_mode": {
    "name": "ipython",
    "version": 3
   },
   "file_extension": ".py",
   "mimetype": "text/x-python",
   "name": "python",
   "nbconvert_exporter": "python",
   "pygments_lexer": "ipython3",
   "version": "3.5.2"
  }
 },
 "nbformat": 4,
 "nbformat_minor": 2
}
